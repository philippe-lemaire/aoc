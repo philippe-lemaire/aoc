{
 "cells": [
  {
   "cell_type": "code",
   "execution_count": null,
   "metadata": {},
   "outputs": [],
   "source": [
    "from day2_input import passwords\n"
   ]
  },
  {
   "cell_type": "code",
   "execution_count": null,
   "metadata": {},
   "outputs": [],
   "source": [
    "valid = 0\n",
    "for line in passwords.splitlines():\n",
    "    policy, password = line.split(':')\n",
    "    mini = int(policy.split('-')[0])\n",
    "    maxi = int(policy.split('-')[1].split(' ')[0])\n",
    "    letter = policy.split(' ')[1]\n",
    "    c = password.count(letter)\n",
    "    if mini <= c <= maxi:\n",
    "        valid+=1\n"
   ]
  },
  {
   "cell_type": "markdown",
   "metadata": {},
   "source": [
    "## Part 2"
   ]
  },
  {
   "cell_type": "code",
   "execution_count": null,
   "metadata": {},
   "outputs": [],
   "source": [
    "valid = 0\n",
    "for line in passwords.splitlines():\n",
    "    policy, password = line.split(\":\")\n",
    "    password = password.strip()\n",
    "    mini = int(policy.split(\"-\")[0])\n",
    "    maxi = int(policy.split(\"-\")[1].split(\" \")[0])\n",
    "    letter = policy.split(\" \")[1]\n",
    "\n",
    "    try:\n",
    "        to_check = [password[mini - 1], password[maxi-1]]\n",
    "        if to_check.count(letter) == 1:\n",
    "            valid += 1\n",
    "\n",
    "\n",
    "    except IndexError:\n",
    "        if password[mini - 1] == letter:\n",
    "            valid += 1\n",
    "\n",
    "valid\n"
   ]
  },
  {
   "cell_type": "code",
   "execution_count": null,
   "metadata": {},
   "outputs": [],
   "source": []
  }
 ],
 "metadata": {
  "kernelspec": {
   "display_name": "tubà",
   "language": "python",
   "name": "python3"
  },
  "language_info": {
   "codemirror_mode": {
    "name": "ipython",
    "version": 3
   },
   "file_extension": ".py",
   "mimetype": "text/x-python",
   "name": "python",
   "nbconvert_exporter": "python",
   "pygments_lexer": "ipython3",
   "version": "3.11.4"
  }
 },
 "nbformat": 4,
 "nbformat_minor": 2
}
