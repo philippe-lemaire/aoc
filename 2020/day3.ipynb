{
 "cells": [
  {
   "cell_type": "code",
   "execution_count": null,
   "id": "423c4cd9-8588-47a5-aa53-719538f83abc",
   "metadata": {},
   "outputs": [],
   "source": [
    "from day3_input import puzzle"
   ]
  },
  {
   "cell_type": "code",
   "execution_count": null,
   "id": "b2b72885-1ddf-493a-83f8-89440d44e6da",
   "metadata": {},
   "outputs": [],
   "source": [
    "data = puzzle.splitlines()"
   ]
  },
  {
   "cell_type": "markdown",
   "id": "e44f2a1b-c078-4d5a-aab9-da9c2e316aac",
   "metadata": {},
   "source": [
    "## Part 1"
   ]
  },
  {
   "cell_type": "code",
   "execution_count": null,
   "id": "1126678e-8ea0-4ec3-8770-7b36ccf826b3",
   "metadata": {},
   "outputs": [],
   "source": [
    "def count_trees(right, down):\n",
    "    counter = 0\n",
    "    row = 0\n",
    "    column = 0\n",
    "    while row < len(data) - 1:\n",
    "        # move 3 right, 1 down\n",
    "        column = (column + right) % len(data[0])\n",
    "        row+=down\n",
    "        # check tree\n",
    "        if data[row][column] == \"#\":\n",
    "            counter +=1\n",
    "    return counter"
   ]
  },
  {
   "cell_type": "code",
   "execution_count": null,
   "id": "2b4491ca-2d27-4f5b-90f0-ef786253e705",
   "metadata": {},
   "outputs": [],
   "source": [
    "count_trees(3, 1)"
   ]
  },
  {
   "cell_type": "markdown",
   "id": "8608c0d8-55a6-41ed-a0d5-be33cb7878f2",
   "metadata": {},
   "source": [
    "## Part 2"
   ]
  },
  {
   "cell_type": "code",
   "execution_count": null,
   "id": "3831de5c-c970-4520-956b-a6a74414af98",
   "metadata": {},
   "outputs": [],
   "source": [
    "to_check = [(1, 1), (3, 1), (5, 1), (7, 1), (1, 2)]\n",
    "results = [count_trees(*path) for path in to_check]"
   ]
  },
  {
   "cell_type": "code",
   "execution_count": null,
   "id": "63a929e1-675c-4292-8727-ebb22ceedde2",
   "metadata": {},
   "outputs": [],
   "source": [
    "results"
   ]
  },
  {
   "cell_type": "code",
   "execution_count": null,
   "id": "ecb6a1e1-b924-438c-bd69-90f4ab1ee626",
   "metadata": {},
   "outputs": [],
   "source": [
    "from functools import reduce\n",
    "from operator import mul"
   ]
  },
  {
   "cell_type": "code",
   "execution_count": null,
   "id": "1ac3a5b3-a330-430c-a915-241a1e8fb7ef",
   "metadata": {},
   "outputs": [],
   "source": [
    "reduce(mul, results)"
   ]
  },
  {
   "cell_type": "code",
   "execution_count": null,
   "id": "3549c8a6-d19c-4ac0-87d3-d0dd2512e65a",
   "metadata": {},
   "outputs": [],
   "source": []
  }
 ],
 "metadata": {
  "kernelspec": {
   "display_name": "Python 3 (ipykernel)",
   "language": "python",
   "name": "python3"
  },
  "language_info": {
   "codemirror_mode": {
    "name": "ipython",
    "version": 3
   },
   "file_extension": ".py",
   "mimetype": "text/x-python",
   "name": "python",
   "nbconvert_exporter": "python",
   "pygments_lexer": "ipython3",
   "version": "3.11.4"
  }
 },
 "nbformat": 4,
 "nbformat_minor": 5
}
