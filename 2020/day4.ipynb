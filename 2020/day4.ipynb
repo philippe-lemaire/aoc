{
 "cells": [
  {
   "cell_type": "code",
   "execution_count": 1,
   "id": "d1b0ff63-5c6e-499e-a0ce-62a5866a40f6",
   "metadata": {},
   "outputs": [],
   "source": [
    "from day4_input import data"
   ]
  },
  {
   "cell_type": "code",
   "execution_count": 18,
   "id": "e09913d1-d1a7-4dd5-84c5-4c284a036f2a",
   "metadata": {},
   "outputs": [],
   "source": [
    "data = \"\"\"ecl:gry pid:860033327 eyr:2020 hcl:#fffffd\n",
    "byr:1937 iyr:2017 cid:147 hgt:183cm\n",
    "\n",
    "iyr:2013 ecl:amb cid:350 eyr:2023 pid:028048884\n",
    "hcl:#cfa07d byr:1929\n",
    "\n",
    "hcl:#ae17e1 iyr:2013\n",
    "eyr:2024\n",
    "ecl:brn pid:760753108 byr:1931\n",
    "hgt:179cm\n",
    "\n",
    "hcl:#cfa07d eyr:2025 pid:166559648\n",
    "iyr:2011 ecl:brn hgt:59in\"\"\""
   ]
  },
  {
   "cell_type": "code",
   "execution_count": 19,
   "id": "fa66d690-26f3-4fef-8031-e3fb7fd9dd5d",
   "metadata": {},
   "outputs": [],
   "source": [
    "valid_password = {\n",
    "    \"byr\": \"(Birth Year)\",\n",
    "    \"iyr\": \"(Issue Year)\",\n",
    "    \"eyr\": \"(Expiration Year)\",\n",
    "    \"hgt\": \"(Height)\",\n",
    "    \"hcl\": \"(Hair Color)\",\n",
    "    \"ecl\": \"(Eye Color)\",\n",
    "    \"pid\": \"(Passport ID)\",\n",
    "    #\"cid\": \"(Country ID)\",\n",
    "}"
   ]
  },
  {
   "cell_type": "code",
   "execution_count": 20,
   "id": "e54df986-8cbb-4f9a-809a-815cf52458be",
   "metadata": {},
   "outputs": [
    {
     "data": {
      "text/plain": [
       "2"
      ]
     },
     "execution_count": 20,
     "metadata": {},
     "output_type": "execute_result"
    }
   ],
   "source": [
    "count = 0\n",
    "passport = {}\n",
    "for line in data.splitlines():\n",
    "    if line:\n",
    "        for chunk in line.split():\n",
    "            key, value = chunk.split(':')\n",
    "            passport[key] = value\n",
    "    else:\n",
    "        # remove cid\n",
    "        if \"cid\" in passport:\n",
    "            del passport[\"cid\"]\n",
    "        if passport.keys() == valid_password.keys():\n",
    "            count+=1\n",
    "            passport = {}\n",
    "count"
   ]
  },
  {
   "cell_type": "code",
   "execution_count": 12,
   "id": "d9293da7-6ade-4ec9-9486-def2436ce200",
   "metadata": {},
   "outputs": [
    {
     "data": {
      "text/plain": [
       "{'ecl': 'brn', 'pid': '9337568136', 'eyr': '2026', 'hcl': '#6b5442'}"
      ]
     },
     "execution_count": 12,
     "metadata": {},
     "output_type": "execute_result"
    }
   ],
   "source": [
    "passport"
   ]
  },
  {
   "cell_type": "code",
   "execution_count": null,
   "id": "0651aedf-6f5a-4fcf-8d27-d2c475fa12a8",
   "metadata": {},
   "outputs": [],
   "source": []
  }
 ],
 "metadata": {
  "kernelspec": {
   "display_name": "Python 3 (ipykernel)",
   "language": "python",
   "name": "python3"
  },
  "language_info": {
   "codemirror_mode": {
    "name": "ipython",
    "version": 3
   },
   "file_extension": ".py",
   "mimetype": "text/x-python",
   "name": "python",
   "nbconvert_exporter": "python",
   "pygments_lexer": "ipython3",
   "version": "3.11.4"
  }
 },
 "nbformat": 4,
 "nbformat_minor": 5
}
