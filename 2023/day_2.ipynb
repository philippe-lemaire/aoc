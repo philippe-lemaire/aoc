{
 "cells": [
  {
   "cell_type": "code",
   "execution_count": 33,
   "id": "6ce38a44-fabe-4155-9558-4c0db0a111d7",
   "metadata": {},
   "outputs": [
    {
     "name": "stdout",
     "output_type": "stream",
     "text": [
      "2156\n"
     ]
    }
   ],
   "source": [
    "import re\n",
    "from input_data_2 import sample_data, data\n",
    "\n",
    "def count_color(color, s):\n",
    "    blue_pattern = re.compile(\"\\d+ blue\")\n",
    "    red_pattern = re.compile(r\"\\d+ red\")\n",
    "    green_pattern = re.compile(r\"\\d+ green\")\n",
    "    color_patterns = {'red': red_pattern, 'blue': blue_pattern, \"green\": green_pattern}\n",
    "    pattern = color_patterns.get(color)\n",
    "    search = pattern.search(s)\n",
    "    if search:\n",
    "        return int(search.group().split()[0])\n",
    "    return 0\n",
    "\n",
    "def is_possible(cubes):\n",
    "    real_cubes = {'red': 12, 'green':13, 'blue':14}\n",
    "    for color in real_cubes:\n",
    "        if real_cubes[color] < cubes[color]:\n",
    "            return False\n",
    "    return True\n",
    "\n",
    "def get_sum_ok_ids(data=data):\n",
    "    id_sum = 0\n",
    "    colors = (\"red\", \"blue\", \"green\")\n",
    "    game_id_pattern = re.compile(r\"Game \\d+\")\n",
    "    \n",
    "    for game in data.splitlines():\n",
    "        id = game_id_pattern.match(game).group().split()[1]\n",
    "        game_outputs = []\n",
    "        for sub_game in game.split(';'):\n",
    "            cubes = {color: count_color(color, sub_game) for color in colors}\n",
    "            game_outputs.append(is_possible(cubes))\n",
    "        if all(game_outputs):\n",
    "            id_sum += int(id)\n",
    "    return id_sum \n",
    "    \n",
    "\n",
    "print(get_sum_ok_ids())"
   ]
  },
  {
   "cell_type": "code",
   "execution_count": 35,
   "id": "413de7a3-a24a-4f60-8be5-a83274b44b15",
   "metadata": {},
   "outputs": [
    {
     "data": {
      "text/plain": [
       "66909"
      ]
     },
     "execution_count": 35,
     "metadata": {},
     "output_type": "execute_result"
    }
   ],
   "source": [
    "from functools import reduce\n",
    "from operator import mul\n",
    "COLORS = (\"red\", \"blue\", \"green\")\n",
    "\n",
    "\n",
    "def get_power(set):\n",
    "    return reduce(mul, set.values())\n",
    "\n",
    "\n",
    "def get_minimal_set(game_sets):\n",
    "    return {color: max(s.get(color) for s in game_sets) for color in COLORS}\n",
    "\n",
    "\n",
    "def get_power_sets(data=data):\n",
    "    game_id_pattern = re.compile(r\"Game \\d+\")\n",
    "    result = 0\n",
    "    for game in data.splitlines():\n",
    "        \n",
    "        id = game_id_pattern.match(game).group().split()[1]\n",
    "        game_sets = []\n",
    "        for sub_game in game.split(';'):\n",
    "            #print(sub_game)\n",
    "            cubes = {color: count_color(color, sub_game) for color in COLORS}\n",
    "            game_sets.append(cubes)\n",
    "        dice_set = get_minimal_set(game_sets)\n",
    "        result+= get_power(dice_set)\n",
    "    return result\n",
    "\n",
    "\n",
    "get_power_sets()"
   ]
  },
  {
   "cell_type": "code",
   "execution_count": null,
   "id": "55968b04-67d0-4ed7-b1ed-928e6afb29e4",
   "metadata": {},
   "outputs": [],
   "source": []
  },
  {
   "cell_type": "code",
   "execution_count": null,
   "id": "5bf3cc58-8bec-466f-b906-1d4632ed04a3",
   "metadata": {},
   "outputs": [],
   "source": []
  }
 ],
 "metadata": {
  "kernelspec": {
   "display_name": "Python 3 (ipykernel)",
   "language": "python",
   "name": "python3"
  },
  "language_info": {
   "codemirror_mode": {
    "name": "ipython",
    "version": 3
   },
   "file_extension": ".py",
   "mimetype": "text/x-python",
   "name": "python",
   "nbconvert_exporter": "python",
   "pygments_lexer": "ipython3",
   "version": "3.11.4"
  }
 },
 "nbformat": 4,
 "nbformat_minor": 5
}
