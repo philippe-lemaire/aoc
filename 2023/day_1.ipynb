{
 "cells": [
  {
   "cell_type": "code",
   "execution_count": null,
   "id": "4fa134f5-91eb-47a6-af73-a43ffcfa7ea8",
   "metadata": {},
   "outputs": [],
   "source": [
    "from input_data_1 import data"
   ]
  },
  {
   "cell_type": "code",
   "execution_count": null,
   "id": "39e2e49e-891b-4ea4-bdab-54ecd7770bce",
   "metadata": {},
   "outputs": [],
   "source": [
    "## Part 1"
   ]
  },
  {
   "cell_type": "code",
   "execution_count": null,
   "id": "9318b782-0862-42fb-a2a8-dca0334e62b1",
   "metadata": {},
   "outputs": [],
   "source": [
    "def get_part_1_result():\n",
    "    result = 0\n",
    "    \n",
    "    for line in data.splitlines():\n",
    "        digits = [d for d in line if d.isdigit()]\n",
    "        result += 10*int(digits[0])\n",
    "        result += int(digits[-1])\n",
    "    return result"
   ]
  },
  {
   "cell_type": "code",
   "execution_count": null,
   "id": "19bd684a-c0a1-4de8-9ac4-0550dad7fbb1",
   "metadata": {},
   "outputs": [],
   "source": [
    "get_part_1_result()"
   ]
  },
  {
   "cell_type": "code",
   "execution_count": null,
   "id": "73944e20-9bc1-431b-a192-9de4d2d5eb28",
   "metadata": {},
   "outputs": [],
   "source": []
  },
  {
   "cell_type": "code",
   "execution_count": null,
   "id": "6358ca6a-2ded-4f07-8a91-9fbcf03bcf35",
   "metadata": {},
   "outputs": [],
   "source": [
    "def get_part_2_result(n_lines=None, data=data):\n",
    "\n",
    "    result = 0\n",
    "    translator = {\n",
    "                \"one\": 1,\n",
    "                \"two\": 2,\n",
    "                \"three\":3,\n",
    "                \"four\" : 4,\n",
    "                \"five\" : 5,\n",
    "                \"six\": 6,\n",
    "                \"seven\":7,\n",
    "                \"eight\":8,\n",
    "                \"nine\":9,\n",
    "            }\n",
    "    \n",
    "    for line in data.splitlines()[:n_lines]:\n",
    "        #print(line)\n",
    "        digits = []\n",
    "       \n",
    "        # find from left, then from right\n",
    "        while not digits:\n",
    "            s = ''\n",
    "            for char in line:\n",
    "                s = s + char\n",
    "                if char.isdigit() and len(digits) == 0:\n",
    "                    digits.append(int(char))\n",
    "                    s = ''\n",
    "                else:\n",
    "                    for k in translator:\n",
    "                        if k in s and not digits:\n",
    "                            digits.append(int(translator.get(k)))\n",
    "                            \n",
    "        # find from right\n",
    "    \n",
    "        s = ''\n",
    "        for char in line[::-1]:\n",
    "            s = char + s\n",
    "            #print(s)\n",
    "            if char.isdigit() and len(digits) == 1:\n",
    "                digits.append(int(char))\n",
    "                s = ''\n",
    "                break\n",
    "            else:\n",
    "                 for k in translator:\n",
    "                    if k in s and len(digits) == 1:\n",
    "                        #print(f\"{k} found\")\n",
    "                        digits.append(int(translator[k]))\n",
    "                        s = ''\n",
    "                        break\n",
    "        #print(digits)\n",
    "        new_value = 10*int(digits[0]) + int(digits[-1])\n",
    "        #print(new_value)\n",
    "        result += new_value\n",
    "       \n",
    "    return result"
   ]
  },
  {
   "cell_type": "code",
   "execution_count": null,
   "id": "06314f0e-1067-4fcf-aadd-cc567024c29d",
   "metadata": {},
   "outputs": [],
   "source": [
    "get_part_2_result()"
   ]
  },
  {
   "cell_type": "code",
   "execution_count": null,
   "id": "0f6aa41f-ea2f-4e79-a658-be2fde0b0f7b",
   "metadata": {},
   "outputs": [],
   "source": []
  }
 ],
 "metadata": {
  "kernelspec": {
   "display_name": "Python 3 (ipykernel)",
   "language": "python",
   "name": "python3"
  },
  "language_info": {
   "codemirror_mode": {
    "name": "ipython",
    "version": 3
   },
   "file_extension": ".py",
   "mimetype": "text/x-python",
   "name": "python",
   "nbconvert_exporter": "python",
   "pygments_lexer": "ipython3",
   "version": "3.11.4"
  }
 },
 "nbformat": 4,
 "nbformat_minor": 5
}
