{
 "cells": [
  {
   "cell_type": "code",
   "execution_count": null,
   "id": "149dc8bd-c483-4b70-919a-1c43dfc85400",
   "metadata": {},
   "outputs": [],
   "source": [
    "from input_data_4 import sample_data, data"
   ]
  },
  {
   "cell_type": "code",
   "execution_count": null,
   "id": "55fbc76d-d15d-4e27-acd0-37d12a62490c",
   "metadata": {},
   "outputs": [],
   "source": [
    "def count_score_part1(data=data):\n",
    "\n",
    "    score = 0\n",
    "    for line in data.splitlines():\n",
    "        card_number, numbers = line.split(':')\n",
    "        winning, played = numbers.split('|')\n",
    "        winning = [int(k) for k in winning.strip().split()]\n",
    "        played = [int(k) for k in played.strip().split()]\n",
    "        # transform in sets\n",
    "        winning = set(winning)\n",
    "        played = set(played)\n",
    "        # measure how many are in both sets : that's the number of winning numbers\n",
    "        correct = winning.intersection(played)\n",
    "        n_winning = len(correct)\n",
    "        if n_winning > 0:\n",
    "            score += 2**(n_winning -  1)\n",
    "    return score"
   ]
  },
  {
   "cell_type": "code",
   "execution_count": null,
   "id": "b74119c8-e3e4-4691-8527-5dace10b32ff",
   "metadata": {},
   "outputs": [],
   "source": [
    "count_score_part1(data=sample_data)"
   ]
  },
  {
   "cell_type": "code",
   "execution_count": null,
   "id": "61cf40d6-686d-4d9c-8b6f-c4ca81111945",
   "metadata": {},
   "outputs": [],
   "source": [
    "count_score_part1(data=data)"
   ]
  },
  {
   "cell_type": "code",
   "execution_count": null,
   "id": "886c8aef-a223-4b32-b234-792ef0fe49a9",
   "metadata": {},
   "outputs": [],
   "source": [
    "from dataclasses import dataclass\n",
    "\n",
    "@dataclass\n",
    "class Card:\n",
    "    number : int\n",
    "    winning : set\n",
    "    played : set\n",
    "\n",
    "    def get_gains(self):\n",
    "        correct = len(self.winning.intersection(self.played))\n",
    "        # just spit out number of extra cards\n",
    "        if correct:\n",
    "            return range(self.number+1, self.number+1+correct)\n",
    "        else:\n",
    "            return range(0)\n",
    "\n",
    "def count_cards(data=data):\n",
    "    \"\"\"General approach : create each initial card, then for each, count how many \n",
    "    we have so far, get extra cards generated as a range, and use this range to store extra cards \n",
    "    in EXTRA dict where the key is the card id and the value is the amount generated so far.\n",
    "    In the end, the sum of the values in extra + the number of original cards is the answer\"\"\"\n",
    "    \n",
    "    cards = []\n",
    "    \n",
    "    for line in data.splitlines():\n",
    "        card_number, numbers = line.split(':')\n",
    "        card_number=int(card_number[4:])\n",
    "        winning, played = numbers.split('|')\n",
    "        winning = [int(k) for k in winning.strip().split()]\n",
    "        played = [int(k) for k in played.strip().split()]\n",
    "        # transform in sets\n",
    "        winning = set(winning)\n",
    "        played = set(played)\n",
    "        card = Card(card_number, winning=winning, played=played)\n",
    "        cards.append(card)\n",
    "    \n",
    "    EXTRA = {k: 0 for k in range(1, len(cards)+1)}\n",
    "    \n",
    "    for card in cards:\n",
    "        amount=1+EXTRA.get(card.number)\n",
    "        gains = card.get_gains()\n",
    "        for k in gains:\n",
    "            EXTRA[k] += amount\n",
    "    \n",
    "    return sum(EXTRA.values())+len(cards)"
   ]
  },
  {
   "cell_type": "code",
   "execution_count": null,
   "id": "f54e809b-e78d-4a66-9c0e-4ad0b408b412",
   "metadata": {},
   "outputs": [],
   "source": [
    "count_cards(data=sample_data)"
   ]
  },
  {
   "cell_type": "code",
   "execution_count": null,
   "id": "ecb1cf83-1c51-432e-b80f-79d2d4b8ec34",
   "metadata": {},
   "outputs": [],
   "source": [
    "count_cards()"
   ]
  },
  {
   "cell_type": "code",
   "execution_count": null,
   "id": "d60bab8d-9c5e-483f-a0f4-5ad0776a0266",
   "metadata": {},
   "outputs": [],
   "source": []
  },
  {
   "cell_type": "code",
   "execution_count": null,
   "id": "fee4633d-ff4e-4d6c-9520-dc6105c7218f",
   "metadata": {},
   "outputs": [],
   "source": []
  }
 ],
 "metadata": {
  "kernelspec": {
   "display_name": "Python 3 (ipykernel)",
   "language": "python",
   "name": "python3"
  },
  "language_info": {
   "codemirror_mode": {
    "name": "ipython",
    "version": 3
   },
   "file_extension": ".py",
   "mimetype": "text/x-python",
   "name": "python",
   "nbconvert_exporter": "python",
   "pygments_lexer": "ipython3",
   "version": "3.11.4"
  }
 },
 "nbformat": 4,
 "nbformat_minor": 5
}
